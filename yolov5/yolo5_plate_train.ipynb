{
  "nbformat": 4,
  "nbformat_minor": 0,
  "metadata": {
    "colab": {
      "name": "yolo5_train.ipynb",
      "provenance": [],
      "collapsed_sections": []
    },
    "kernelspec": {
      "name": "python3",
      "display_name": "Python 3"
    },
    "accelerator": "GPU",
    "widgets": {
      "application/vnd.jupyter.widget-state+json": {
        "9559dfe3a9194f578927f743dd2d8d73": {
          "model_module": "@jupyter-widgets/controls",
          "model_name": "HBoxModel",
          "state": {
            "_view_name": "HBoxView",
            "_dom_classes": [],
            "_model_name": "HBoxModel",
            "_view_module": "@jupyter-widgets/controls",
            "_model_module_version": "1.5.0",
            "_view_count": null,
            "_view_module_version": "1.5.0",
            "box_style": "",
            "layout": "IPY_MODEL_a249023e065349a09172b0d3cbab5c87",
            "_model_module": "@jupyter-widgets/controls",
            "children": [
              "IPY_MODEL_4fbcb21b4dc7463bbe1448a0c9fc671e",
              "IPY_MODEL_a97edc49d18f4b2cadf5faac5c946dcb"
            ]
          }
        },
        "a249023e065349a09172b0d3cbab5c87": {
          "model_module": "@jupyter-widgets/base",
          "model_name": "LayoutModel",
          "state": {
            "_view_name": "LayoutView",
            "grid_template_rows": null,
            "right": null,
            "justify_content": null,
            "_view_module": "@jupyter-widgets/base",
            "overflow": null,
            "_model_module_version": "1.2.0",
            "_view_count": null,
            "flex_flow": null,
            "width": null,
            "min_width": null,
            "border": null,
            "align_items": null,
            "bottom": null,
            "_model_module": "@jupyter-widgets/base",
            "top": null,
            "grid_column": null,
            "overflow_y": null,
            "overflow_x": null,
            "grid_auto_flow": null,
            "grid_area": null,
            "grid_template_columns": null,
            "flex": null,
            "_model_name": "LayoutModel",
            "justify_items": null,
            "grid_row": null,
            "max_height": null,
            "align_content": null,
            "visibility": null,
            "align_self": null,
            "height": null,
            "min_height": null,
            "padding": null,
            "grid_auto_rows": null,
            "grid_gap": null,
            "max_width": null,
            "order": null,
            "_view_module_version": "1.2.0",
            "grid_template_areas": null,
            "object_position": null,
            "object_fit": null,
            "grid_auto_columns": null,
            "margin": null,
            "display": null,
            "left": null
          }
        },
        "4fbcb21b4dc7463bbe1448a0c9fc671e": {
          "model_module": "@jupyter-widgets/controls",
          "model_name": "FloatProgressModel",
          "state": {
            "_view_name": "ProgressView",
            "style": "IPY_MODEL_be6a1e27887441aca8b820d68f1cc856",
            "_dom_classes": [],
            "description": "100%",
            "_model_name": "FloatProgressModel",
            "bar_style": "success",
            "max": 1498,
            "_view_module": "@jupyter-widgets/controls",
            "_model_module_version": "1.5.0",
            "value": 1498,
            "_view_count": null,
            "_view_module_version": "1.5.0",
            "orientation": "horizontal",
            "min": 0,
            "description_tooltip": null,
            "_model_module": "@jupyter-widgets/controls",
            "layout": "IPY_MODEL_a4cad64e583a4b60bd5c4fa7301a7766"
          }
        },
        "a97edc49d18f4b2cadf5faac5c946dcb": {
          "model_module": "@jupyter-widgets/controls",
          "model_name": "HTMLModel",
          "state": {
            "_view_name": "HTMLView",
            "style": "IPY_MODEL_7d2bddc84f694aea8dadea028434e8a8",
            "_dom_classes": [],
            "description": "",
            "_model_name": "HTMLModel",
            "placeholder": "​",
            "_view_module": "@jupyter-widgets/controls",
            "_model_module_version": "1.5.0",
            "value": " 1498/1498 [08:27&lt;00:00,  2.95it/s]",
            "_view_count": null,
            "_view_module_version": "1.5.0",
            "description_tooltip": null,
            "_model_module": "@jupyter-widgets/controls",
            "layout": "IPY_MODEL_2ca7a6cb887d499b9534369af78a9754"
          }
        },
        "be6a1e27887441aca8b820d68f1cc856": {
          "model_module": "@jupyter-widgets/controls",
          "model_name": "ProgressStyleModel",
          "state": {
            "_view_name": "StyleView",
            "_model_name": "ProgressStyleModel",
            "description_width": "initial",
            "_view_module": "@jupyter-widgets/base",
            "_model_module_version": "1.5.0",
            "_view_count": null,
            "_view_module_version": "1.2.0",
            "bar_color": null,
            "_model_module": "@jupyter-widgets/controls"
          }
        },
        "a4cad64e583a4b60bd5c4fa7301a7766": {
          "model_module": "@jupyter-widgets/base",
          "model_name": "LayoutModel",
          "state": {
            "_view_name": "LayoutView",
            "grid_template_rows": null,
            "right": null,
            "justify_content": null,
            "_view_module": "@jupyter-widgets/base",
            "overflow": null,
            "_model_module_version": "1.2.0",
            "_view_count": null,
            "flex_flow": null,
            "width": null,
            "min_width": null,
            "border": null,
            "align_items": null,
            "bottom": null,
            "_model_module": "@jupyter-widgets/base",
            "top": null,
            "grid_column": null,
            "overflow_y": null,
            "overflow_x": null,
            "grid_auto_flow": null,
            "grid_area": null,
            "grid_template_columns": null,
            "flex": null,
            "_model_name": "LayoutModel",
            "justify_items": null,
            "grid_row": null,
            "max_height": null,
            "align_content": null,
            "visibility": null,
            "align_self": null,
            "height": null,
            "min_height": null,
            "padding": null,
            "grid_auto_rows": null,
            "grid_gap": null,
            "max_width": null,
            "order": null,
            "_view_module_version": "1.2.0",
            "grid_template_areas": null,
            "object_position": null,
            "object_fit": null,
            "grid_auto_columns": null,
            "margin": null,
            "display": null,
            "left": null
          }
        },
        "7d2bddc84f694aea8dadea028434e8a8": {
          "model_module": "@jupyter-widgets/controls",
          "model_name": "DescriptionStyleModel",
          "state": {
            "_view_name": "StyleView",
            "_model_name": "DescriptionStyleModel",
            "description_width": "",
            "_view_module": "@jupyter-widgets/base",
            "_model_module_version": "1.5.0",
            "_view_count": null,
            "_view_module_version": "1.2.0",
            "_model_module": "@jupyter-widgets/controls"
          }
        },
        "2ca7a6cb887d499b9534369af78a9754": {
          "model_module": "@jupyter-widgets/base",
          "model_name": "LayoutModel",
          "state": {
            "_view_name": "LayoutView",
            "grid_template_rows": null,
            "right": null,
            "justify_content": null,
            "_view_module": "@jupyter-widgets/base",
            "overflow": null,
            "_model_module_version": "1.2.0",
            "_view_count": null,
            "flex_flow": null,
            "width": null,
            "min_width": null,
            "border": null,
            "align_items": null,
            "bottom": null,
            "_model_module": "@jupyter-widgets/base",
            "top": null,
            "grid_column": null,
            "overflow_y": null,
            "overflow_x": null,
            "grid_auto_flow": null,
            "grid_area": null,
            "grid_template_columns": null,
            "flex": null,
            "_model_name": "LayoutModel",
            "justify_items": null,
            "grid_row": null,
            "max_height": null,
            "align_content": null,
            "visibility": null,
            "align_self": null,
            "height": null,
            "min_height": null,
            "padding": null,
            "grid_auto_rows": null,
            "grid_gap": null,
            "max_width": null,
            "order": null,
            "_view_module_version": "1.2.0",
            "grid_template_areas": null,
            "object_position": null,
            "object_fit": null,
            "grid_auto_columns": null,
            "margin": null,
            "display": null,
            "left": null
          }
        }
      }
    }
  },
  "cells": [
    {
      "cell_type": "code",
      "metadata": {
        "id": "eB3IBQRB-lrI",
        "colab_type": "code",
        "colab": {}
      },
      "source": [
        "import numpy as np # linear algebra\n",
        "import pandas as pd # data processing, CSV file I/O (e.g. pd.read_csv)\n",
        "\n",
        "import os"
      ],
      "execution_count": null,
      "outputs": []
    },
    {
      "cell_type": "code",
      "metadata": {
        "id": "4JABfp1T8HSV",
        "colab_type": "code",
        "colab": {
          "base_uri": "https://localhost:8080/",
          "height": 147
        },
        "outputId": "42160045-1b8f-4afa-9a6b-afde07829984"
      },
      "source": [
        "!git clone https://github.com/ultralytics/yolov5"
      ],
      "execution_count": null,
      "outputs": [
        {
          "output_type": "stream",
          "text": [
            "Cloning into 'yolov5'...\n",
            "remote: Enumerating objects: 59, done.\u001b[K\n",
            "remote: Counting objects: 100% (59/59), done.\u001b[K\n",
            "remote: Compressing objects: 100% (44/44), done.\u001b[K\n",
            "remote: Total 1297 (delta 32), reused 32 (delta 15), pack-reused 1238\u001b[K\n",
            "Receiving objects: 100% (1297/1297), 3.54 MiB | 73.00 KiB/s, done.\n",
            "Resolving deltas: 100% (862/862), done.\n"
          ],
          "name": "stdout"
        }
      ]
    },
    {
      "cell_type": "code",
      "metadata": {
        "id": "RmkYF20o-yU1",
        "colab_type": "code",
        "colab": {}
      },
      "source": [
        "!mv yolov5/* ./"
      ],
      "execution_count": null,
      "outputs": []
    },
    {
      "cell_type": "code",
      "metadata": {
        "id": "Lc-WXqMJ-1lP",
        "colab_type": "code",
        "colab": {
          "base_uri": "https://localhost:8080/",
          "height": 1000
        },
        "outputId": "9e2e01bb-6b4d-4ec7-ec71-ab145d479f07"
      },
      "source": [
        "!pip install -r requirements.txt"
      ],
      "execution_count": null,
      "outputs": [
        {
          "output_type": "stream",
          "text": [
            "Collecting git+https://github.com/cocodataset/cocoapi.git#subdirectory=PythonAPI (from -r requirements.txt (line 13))\n",
            "  Cloning https://github.com/cocodataset/cocoapi.git to /tmp/pip-req-build-zsanlcja\n",
            "  Running command git clone -q https://github.com/cocodataset/cocoapi.git /tmp/pip-req-build-zsanlcja\n",
            "Requirement already satisfied: Cython in /usr/local/lib/python3.6/dist-packages (from -r requirements.txt (line 2)) (0.29.20)\n",
            "Collecting numpy==1.17\n",
            "\u001b[?25l  Downloading https://files.pythonhosted.org/packages/19/b9/bda9781f0a74b90ebd2e046fde1196182900bd4a8e1ea503d3ffebc50e7c/numpy-1.17.0-cp36-cp36m-manylinux1_x86_64.whl (20.4MB)\n",
            "\u001b[K     |████████████████████████████████| 20.4MB 1.4MB/s \n",
            "\u001b[?25hRequirement already satisfied: opencv-python in /usr/local/lib/python3.6/dist-packages (from -r requirements.txt (line 4)) (4.1.2.30)\n",
            "Requirement already satisfied: torch>=1.5.1 in /usr/local/lib/python3.6/dist-packages (from -r requirements.txt (line 5)) (1.5.1+cu101)\n",
            "Requirement already satisfied: matplotlib in /usr/local/lib/python3.6/dist-packages (from -r requirements.txt (line 6)) (3.2.2)\n",
            "Requirement already satisfied: pillow in /usr/local/lib/python3.6/dist-packages (from -r requirements.txt (line 7)) (7.0.0)\n",
            "Requirement already satisfied: tensorboard in /usr/local/lib/python3.6/dist-packages (from -r requirements.txt (line 8)) (2.2.2)\n",
            "Collecting PyYAML>=5.3\n",
            "\u001b[?25l  Downloading https://files.pythonhosted.org/packages/64/c2/b80047c7ac2478f9501676c988a5411ed5572f35d1beff9cae07d321512c/PyYAML-5.3.1.tar.gz (269kB)\n",
            "\u001b[K     |████████████████████████████████| 276kB 53.8MB/s \n",
            "\u001b[?25hRequirement already satisfied: torchvision in /usr/local/lib/python3.6/dist-packages (from -r requirements.txt (line 10)) (0.6.1+cu101)\n",
            "Requirement already satisfied: scipy in /usr/local/lib/python3.6/dist-packages (from -r requirements.txt (line 11)) (1.4.1)\n",
            "Requirement already satisfied: tqdm in /usr/local/lib/python3.6/dist-packages (from -r requirements.txt (line 12)) (4.41.1)\n",
            "Requirement already satisfied: setuptools>=18.0 in /usr/local/lib/python3.6/dist-packages (from pycocotools==2.0->-r requirements.txt (line 13)) (47.3.1)\n",
            "Requirement already satisfied: future in /usr/local/lib/python3.6/dist-packages (from torch>=1.5.1->-r requirements.txt (line 5)) (0.16.0)\n",
            "Requirement already satisfied: python-dateutil>=2.1 in /usr/local/lib/python3.6/dist-packages (from matplotlib->-r requirements.txt (line 6)) (2.8.1)\n",
            "Requirement already satisfied: pyparsing!=2.0.4,!=2.1.2,!=2.1.6,>=2.0.1 in /usr/local/lib/python3.6/dist-packages (from matplotlib->-r requirements.txt (line 6)) (2.4.7)\n",
            "Requirement already satisfied: cycler>=0.10 in /usr/local/lib/python3.6/dist-packages (from matplotlib->-r requirements.txt (line 6)) (0.10.0)\n",
            "Requirement already satisfied: kiwisolver>=1.0.1 in /usr/local/lib/python3.6/dist-packages (from matplotlib->-r requirements.txt (line 6)) (1.2.0)\n",
            "Requirement already satisfied: google-auth<2,>=1.6.3 in /usr/local/lib/python3.6/dist-packages (from tensorboard->-r requirements.txt (line 8)) (1.17.2)\n",
            "Requirement already satisfied: requests<3,>=2.21.0 in /usr/local/lib/python3.6/dist-packages (from tensorboard->-r requirements.txt (line 8)) (2.23.0)\n",
            "Requirement already satisfied: six>=1.10.0 in /usr/local/lib/python3.6/dist-packages (from tensorboard->-r requirements.txt (line 8)) (1.12.0)\n",
            "Requirement already satisfied: werkzeug>=0.11.15 in /usr/local/lib/python3.6/dist-packages (from tensorboard->-r requirements.txt (line 8)) (1.0.1)\n",
            "Requirement already satisfied: tensorboard-plugin-wit>=1.6.0 in /usr/local/lib/python3.6/dist-packages (from tensorboard->-r requirements.txt (line 8)) (1.6.0.post3)\n",
            "Requirement already satisfied: grpcio>=1.24.3 in /usr/local/lib/python3.6/dist-packages (from tensorboard->-r requirements.txt (line 8)) (1.30.0)\n",
            "Requirement already satisfied: absl-py>=0.4 in /usr/local/lib/python3.6/dist-packages (from tensorboard->-r requirements.txt (line 8)) (0.9.0)\n",
            "Requirement already satisfied: protobuf>=3.6.0 in /usr/local/lib/python3.6/dist-packages (from tensorboard->-r requirements.txt (line 8)) (3.10.0)\n",
            "Requirement already satisfied: wheel>=0.26; python_version >= \"3\" in /usr/local/lib/python3.6/dist-packages (from tensorboard->-r requirements.txt (line 8)) (0.34.2)\n",
            "Requirement already satisfied: google-auth-oauthlib<0.5,>=0.4.1 in /usr/local/lib/python3.6/dist-packages (from tensorboard->-r requirements.txt (line 8)) (0.4.1)\n",
            "Requirement already satisfied: markdown>=2.6.8 in /usr/local/lib/python3.6/dist-packages (from tensorboard->-r requirements.txt (line 8)) (3.2.2)\n",
            "Requirement already satisfied: cachetools<5.0,>=2.0.0 in /usr/local/lib/python3.6/dist-packages (from google-auth<2,>=1.6.3->tensorboard->-r requirements.txt (line 8)) (4.1.0)\n",
            "Requirement already satisfied: rsa<5,>=3.1.4; python_version >= \"3\" in /usr/local/lib/python3.6/dist-packages (from google-auth<2,>=1.6.3->tensorboard->-r requirements.txt (line 8)) (4.6)\n",
            "Requirement already satisfied: pyasn1-modules>=0.2.1 in /usr/local/lib/python3.6/dist-packages (from google-auth<2,>=1.6.3->tensorboard->-r requirements.txt (line 8)) (0.2.8)\n",
            "Requirement already satisfied: chardet<4,>=3.0.2 in /usr/local/lib/python3.6/dist-packages (from requests<3,>=2.21.0->tensorboard->-r requirements.txt (line 8)) (3.0.4)\n",
            "Requirement already satisfied: urllib3!=1.25.0,!=1.25.1,<1.26,>=1.21.1 in /usr/local/lib/python3.6/dist-packages (from requests<3,>=2.21.0->tensorboard->-r requirements.txt (line 8)) (1.24.3)\n",
            "Requirement already satisfied: certifi>=2017.4.17 in /usr/local/lib/python3.6/dist-packages (from requests<3,>=2.21.0->tensorboard->-r requirements.txt (line 8)) (2020.6.20)\n",
            "Requirement already satisfied: idna<3,>=2.5 in /usr/local/lib/python3.6/dist-packages (from requests<3,>=2.21.0->tensorboard->-r requirements.txt (line 8)) (2.9)\n",
            "Requirement already satisfied: requests-oauthlib>=0.7.0 in /usr/local/lib/python3.6/dist-packages (from google-auth-oauthlib<0.5,>=0.4.1->tensorboard->-r requirements.txt (line 8)) (1.3.0)\n",
            "Requirement already satisfied: importlib-metadata; python_version < \"3.8\" in /usr/local/lib/python3.6/dist-packages (from markdown>=2.6.8->tensorboard->-r requirements.txt (line 8)) (1.6.1)\n",
            "Requirement already satisfied: pyasn1>=0.1.3 in /usr/local/lib/python3.6/dist-packages (from rsa<5,>=3.1.4; python_version >= \"3\"->google-auth<2,>=1.6.3->tensorboard->-r requirements.txt (line 8)) (0.4.8)\n",
            "Requirement already satisfied: oauthlib>=3.0.0 in /usr/local/lib/python3.6/dist-packages (from requests-oauthlib>=0.7.0->google-auth-oauthlib<0.5,>=0.4.1->tensorboard->-r requirements.txt (line 8)) (3.1.0)\n",
            "Requirement already satisfied: zipp>=0.5 in /usr/local/lib/python3.6/dist-packages (from importlib-metadata; python_version < \"3.8\"->markdown>=2.6.8->tensorboard->-r requirements.txt (line 8)) (3.1.0)\n",
            "Building wheels for collected packages: PyYAML, pycocotools\n",
            "  Building wheel for PyYAML (setup.py) ... \u001b[?25l\u001b[?25hdone\n",
            "  Created wheel for PyYAML: filename=PyYAML-5.3.1-cp36-cp36m-linux_x86_64.whl size=44621 sha256=a20b7928d5dc0e84ed3b400a5599db41e281688d99cdfb4fd8ecef25da668165\n",
            "  Stored in directory: /root/.cache/pip/wheels/a7/c1/ea/cf5bd31012e735dc1dfea3131a2d5eae7978b251083d6247bd\n",
            "  Building wheel for pycocotools (setup.py) ... \u001b[?25l\u001b[?25hdone\n",
            "  Created wheel for pycocotools: filename=pycocotools-2.0-cp36-cp36m-linux_x86_64.whl size=266989 sha256=25b6a4a0a114ee8ed90a058297a27c9921563021807eb0805afd9732c126a1d9\n",
            "  Stored in directory: /tmp/pip-ephem-wheel-cache-a9v8kmrp/wheels/90/51/41/646daf401c3bc408ff10de34ec76587a9b3ebfac8d21ca5c3a\n",
            "Successfully built PyYAML pycocotools\n",
            "\u001b[31mERROR: datascience 0.10.6 has requirement folium==0.2.1, but you'll have folium 0.8.3 which is incompatible.\u001b[0m\n",
            "\u001b[31mERROR: albumentations 0.1.12 has requirement imgaug<0.2.7,>=0.2.5, but you'll have imgaug 0.2.9 which is incompatible.\u001b[0m\n",
            "Installing collected packages: numpy, PyYAML, pycocotools\n",
            "  Found existing installation: numpy 1.18.5\n",
            "    Uninstalling numpy-1.18.5:\n",
            "      Successfully uninstalled numpy-1.18.5\n",
            "  Found existing installation: PyYAML 3.13\n",
            "    Uninstalling PyYAML-3.13:\n",
            "      Successfully uninstalled PyYAML-3.13\n",
            "  Found existing installation: pycocotools 2.0.1\n",
            "    Uninstalling pycocotools-2.0.1:\n",
            "      Successfully uninstalled pycocotools-2.0.1\n",
            "Successfully installed PyYAML-5.3.1 numpy-1.17.0 pycocotools-2.0\n"
          ],
          "name": "stdout"
        },
        {
          "output_type": "display_data",
          "data": {
            "application/vnd.colab-display-data+json": {
              "pip_warning": {
                "packages": [
                  "numpy"
                ]
              }
            }
          },
          "metadata": {
            "tags": []
          }
        }
      ]
    },
    {
      "cell_type": "code",
      "metadata": {
        "id": "P51u5_XD-91p",
        "colab_type": "code",
        "colab": {}
      },
      "source": [
        "df = pd.read_csv('/content/drive/My Drive/ANPD/train.csv')\n",
        "df.columns =['image_id','x','y','w','h','classes']\n",
        "df['w'] = df['w'] - df['x']\n",
        "df['h'] = df['h'] - df['y']\n",
        "df['x_center'] = df['x'] + df['w']/2\n",
        "df['y_center'] = df['y'] + df['h']/2\n",
        "df['classes'] = 0\n",
        "from tqdm.auto import tqdm\n",
        "import shutil as sh\n",
        "df = df[['image_id','x', 'y', 'w', 'h','x_center','y_center','classes']]"
      ],
      "execution_count": null,
      "outputs": []
    },
    {
      "cell_type": "code",
      "metadata": {
        "id": "E4RB1dR9DIdY",
        "colab_type": "code",
        "colab": {
          "base_uri": "https://localhost:8080/",
          "height": 206
        },
        "outputId": "8cbcac9d-2b13-4d80-b250-72272e6b5b27"
      },
      "source": [
        "df.head()"
      ],
      "execution_count": null,
      "outputs": [
        {
          "output_type": "execute_result",
          "data": {
            "text/html": [
              "<div>\n",
              "<style scoped>\n",
              "    .dataframe tbody tr th:only-of-type {\n",
              "        vertical-align: middle;\n",
              "    }\n",
              "\n",
              "    .dataframe tbody tr th {\n",
              "        vertical-align: top;\n",
              "    }\n",
              "\n",
              "    .dataframe thead th {\n",
              "        text-align: right;\n",
              "    }\n",
              "</style>\n",
              "<table border=\"1\" class=\"dataframe\">\n",
              "  <thead>\n",
              "    <tr style=\"text-align: right;\">\n",
              "      <th></th>\n",
              "      <th>image_id</th>\n",
              "      <th>x</th>\n",
              "      <th>y</th>\n",
              "      <th>w</th>\n",
              "      <th>h</th>\n",
              "      <th>x_center</th>\n",
              "      <th>y_center</th>\n",
              "      <th>classes</th>\n",
              "    </tr>\n",
              "  </thead>\n",
              "  <tbody>\n",
              "    <tr>\n",
              "      <th>0</th>\n",
              "      <td>LA03304_bg</td>\n",
              "      <td>55</td>\n",
              "      <td>43</td>\n",
              "      <td>160</td>\n",
              "      <td>82</td>\n",
              "      <td>135.0</td>\n",
              "      <td>84.0</td>\n",
              "      <td>0</td>\n",
              "    </tr>\n",
              "    <tr>\n",
              "      <th>1</th>\n",
              "      <td>LA10214_bg</td>\n",
              "      <td>154</td>\n",
              "      <td>113</td>\n",
              "      <td>163</td>\n",
              "      <td>130</td>\n",
              "      <td>235.5</td>\n",
              "      <td>178.0</td>\n",
              "      <td>0</td>\n",
              "    </tr>\n",
              "    <tr>\n",
              "      <th>2</th>\n",
              "      <td>LA26527_bg</td>\n",
              "      <td>46</td>\n",
              "      <td>151</td>\n",
              "      <td>104</td>\n",
              "      <td>159</td>\n",
              "      <td>98.0</td>\n",
              "      <td>230.5</td>\n",
              "      <td>0</td>\n",
              "    </tr>\n",
              "    <tr>\n",
              "      <th>3</th>\n",
              "      <td>LA28823_bg</td>\n",
              "      <td>30</td>\n",
              "      <td>4</td>\n",
              "      <td>217</td>\n",
              "      <td>112</td>\n",
              "      <td>138.5</td>\n",
              "      <td>60.0</td>\n",
              "      <td>0</td>\n",
              "    </tr>\n",
              "    <tr>\n",
              "      <th>4</th>\n",
              "      <td>LA29127_bg</td>\n",
              "      <td>31</td>\n",
              "      <td>124</td>\n",
              "      <td>122</td>\n",
              "      <td>191</td>\n",
              "      <td>92.0</td>\n",
              "      <td>219.5</td>\n",
              "      <td>0</td>\n",
              "    </tr>\n",
              "  </tbody>\n",
              "</table>\n",
              "</div>"
            ],
            "text/plain": [
              "     image_id    x    y    w    h  x_center  y_center  classes\n",
              "0  LA03304_bg   55   43  160   82     135.0      84.0        0\n",
              "1  LA10214_bg  154  113  163  130     235.5     178.0        0\n",
              "2  LA26527_bg   46  151  104  159      98.0     230.5        0\n",
              "3  LA28823_bg   30    4  217  112     138.5      60.0        0\n",
              "4  LA29127_bg   31  124  122  191      92.0     219.5        0"
            ]
          },
          "metadata": {
            "tags": []
          },
          "execution_count": 7
        }
      ]
    },
    {
      "cell_type": "code",
      "metadata": {
        "id": "mwmyAmiq_tPq",
        "colab_type": "code",
        "colab": {}
      },
      "source": [
        "index = list(set(df.image_id))"
      ],
      "execution_count": null,
      "outputs": []
    },
    {
      "cell_type": "code",
      "metadata": {
        "id": "OmPsWon-ETox",
        "colab_type": "code",
        "colab": {}
      },
      "source": [
        "import shutil\n",
        "shutil.rmtree('/content/convertor/fold0')"
      ],
      "execution_count": null,
      "outputs": []
    },
    {
      "cell_type": "code",
      "metadata": {
        "id": "LBJA770q_xyL",
        "colab_type": "code",
        "colab": {
          "base_uri": "https://localhost:8080/",
          "height": 68,
          "referenced_widgets": [
            "9559dfe3a9194f578927f743dd2d8d73",
            "a249023e065349a09172b0d3cbab5c87",
            "4fbcb21b4dc7463bbe1448a0c9fc671e",
            "a97edc49d18f4b2cadf5faac5c946dcb",
            "be6a1e27887441aca8b820d68f1cc856",
            "a4cad64e583a4b60bd5c4fa7301a7766",
            "7d2bddc84f694aea8dadea028434e8a8",
            "2ca7a6cb887d499b9534369af78a9754"
          ]
        },
        "outputId": "114bcb9d-6157-43ea-c9ad-0ba763a8a26f"
      },
      "source": [
        "source = 'train'\n",
        "if True:\n",
        "    for fold in [0]:\n",
        "        val_index = index[len(index)*fold//5:len(index)*(fold+1)//5]\n",
        "        for name,mini in tqdm(df.groupby('image_id')):\n",
        "            if name in val_index:\n",
        "                path2save = 'val2017/'\n",
        "            else:\n",
        "                path2save = 'train2017/'\n",
        "            if not os.path.exists('convertor/fold{}/labels/'.format(fold)+path2save):\n",
        "                os.makedirs('convertor/fold{}/labels/'.format(fold)+path2save)\n",
        "            with open('convertor/fold{}/labels/'.format(fold)+path2save+name+\".txt\", 'w+') as f:\n",
        "                row = mini[['classes','x_center','y_center','w','h']].astype(float).values\n",
        "                row = row/600\n",
        "                row = row.astype(str)\n",
        "                for j in range(len(row)):\n",
        "                    text = ' '.join(row[j])\n",
        "                    f.write(text)\n",
        "                    f.write(\"\\n\")\n",
        "            if not os.path.exists('convertor/fold{}/images/{}'.format(fold,path2save)):\n",
        "                os.makedirs('convertor/fold{}/images/{}'.format(fold,path2save))\n",
        "            sh.copy(\"/content/drive/My Drive/ANPD/{}/{}.jpg\".format(source,name),'convertor/fold{}/images/{}/{}.jpg'.format(fold,path2save,name))"
      ],
      "execution_count": null,
      "outputs": [
        {
          "output_type": "display_data",
          "data": {
            "application/vnd.jupyter.widget-view+json": {
              "model_id": "9559dfe3a9194f578927f743dd2d8d73",
              "version_minor": 0,
              "version_major": 2
            },
            "text/plain": [
              "HBox(children=(FloatProgress(value=0.0, max=1498.0), HTML(value='')))"
            ]
          },
          "metadata": {
            "tags": []
          }
        },
        {
          "output_type": "stream",
          "text": [
            "\n"
          ],
          "name": "stdout"
        }
      ]
    },
    {
      "cell_type": "code",
      "metadata": {
        "id": "oAajHxFqFKnH",
        "colab_type": "code",
        "colab": {
          "base_uri": "https://localhost:8080/",
          "height": 912
        },
        "outputId": "dd67c78a-962d-4445-ebba-803e628e2c0e"
      },
      "source": [
        "!python train.py --noautoanchor --img 608 --batch 8 --epochs 300 --data \"/content/drive/My Drive/ANPD/configYolo5/wheat0.yaml\" --cfg \"/content/drive/My Drive/ANPD/configYolo5/yolov5x.yaml\" --name yolov5x_fold0"
      ],
      "execution_count": null,
      "outputs": [
        {
          "output_type": "stream",
          "text": [
            "Apex recommended for faster mixed precision training: https://github.com/NVIDIA/apex\n",
            "{'lr0': 0.01, 'momentum': 0.937, 'weight_decay': 0.0005, 'giou': 0.05, 'cls': 0.58, 'cls_pw': 1.0, 'obj': 1.0, 'obj_pw': 1.0, 'iou_t': 0.2, 'anchor_t': 4.0, 'fl_gamma': 0.0, 'hsv_h': 0.014, 'hsv_s': 0.68, 'hsv_v': 0.36, 'degrees': 0.0, 'translate': 0.0, 'scale': 0.5, 'shear': 0.0}\n",
            "Namespace(adam=False, batch_size=8, bucket='', cache_images=False, cfg='/content/drive/My Drive/ANPD/configYolo5/yolov5x.yaml', data='/content/drive/My Drive/ANPD/configYolo5/wheat0.yaml', device='', epochs=300, evolve=False, img_size=[608], multi_scale=False, name='yolov5x_fold0', noautoanchor=True, nosave=False, notest=False, rect=False, resume=False, single_cls=False, weights='')\n",
            "Using CUDA device0 _CudaDeviceProperties(name='Tesla K80', total_memory=11441MB)\n",
            "\n",
            "2020-06-29 16:51:31.987479: I tensorflow/stream_executor/platform/default/dso_loader.cc:44] Successfully opened dynamic library libcudart.so.10.1\n",
            "Start Tensorboard with \"tensorboard --logdir=runs\", view at http://localhost:6006/\n",
            "\n",
            "              from  n    params  module                                  arguments                     \n",
            "  0             -1  1      8800  models.common.Focus                     [3, 80, 3]                    \n",
            "  1             -1  1    115520  models.common.Conv                      [80, 160, 3, 2]               \n",
            "  2             -1  4    513920  models.common.Bottleneck                [160, 160]                    \n",
            "  3             -1  1    461440  models.common.Conv                      [160, 320, 3, 2]              \n",
            "  4             -1  1   3311680  models.common.BottleneckCSP             [320, 320, 12]                \n",
            "  5             -1  1   1844480  models.common.Conv                      [320, 640, 3, 2]              \n",
            "  6             -1  1  13228160  models.common.BottleneckCSP             [640, 640, 12]                \n",
            "  7             -1  1   7375360  models.common.Conv                      [640, 1280, 3, 2]             \n",
            "  8             -1  1   4099840  models.common.SPP                       [1280, 1280, [5, 9, 13]]      \n",
            "  9             -1  1  36481280  models.common.BottleneckCSP             [1280, 1280, 8]               \n",
            " 10             -1  1  20087040  models.common.BottleneckCSP             [1280, 1280, 4, False]        \n",
            " 11             -1  1     23058  torch.nn.modules.conv.Conv2d            [1280, 18, 1, 1]              \n",
            " 12             -2  1         0  torch.nn.modules.upsampling.Upsample    [None, 2, 'nearest']          \n",
            " 13        [-1, 6]  1         0  models.common.Concat                    [1]                           \n",
            " 14             -1  1   1230080  models.common.Conv                      [1920, 640, 1, 1]             \n",
            " 15             -1  1   5025920  models.common.BottleneckCSP             [640, 640, 4, False]          \n",
            " 16             -1  1     11538  torch.nn.modules.conv.Conv2d            [640, 18, 1, 1]               \n",
            " 17             -2  1         0  torch.nn.modules.upsampling.Upsample    [None, 2, 'nearest']          \n",
            " 18        [-1, 4]  1         0  models.common.Concat                    [1]                           \n",
            " 19             -1  1    307840  models.common.Conv                      [960, 320, 1, 1]              \n",
            " 20             -1  1   1258560  models.common.BottleneckCSP             [320, 320, 4, False]          \n",
            " 21             -1  1      5778  torch.nn.modules.conv.Conv2d            [320, 18, 1, 1]               \n",
            " 22   [-1, 16, 11]  1         0  models.yolo.Detect                      [1, [[10, 13, 16, 30, 33, 23], [30, 61, 62, 45, 59, 119], [116, 90, 156, 198, 373, 326]]]\n",
            "Model Summary: 381 layers, 9.53903e+07 parameters, 9.53903e+07 gradients\n",
            "\n",
            "Optimizer groups: 126 .bias, 132 conv.weight, 123 other\n",
            "Reading image shapes: 100% 1199/1199 [00:00<00:00, 6940.43it/s]\n",
            "Caching labels convertor/fold0/labels/train2017 (1199 found, 0 missing, 0 empty, 0 duplicate, for 1199 images): 100% 1199/1199 [00:00<00:00, 6192.97it/s]\n",
            "Saving labels to convertor/fold0/labels/train2017.npy for faster future loading\n",
            "Reading image shapes: 100% 299/299 [00:00<00:00, 8791.98it/s]\n",
            "Caching labels convertor/fold0/labels/val2017 (299 found, 0 missing, 0 empty, 0 duplicate, for 299 images): 100% 299/299 [00:00<00:00, 5896.94it/s]\n",
            "Image sizes 608 train, 608 test\n",
            "Using 2 dataloader workers\n",
            "Starting training for 300 epochs...\n",
            "\n",
            "     Epoch   gpu_mem      GIoU       obj       cls     total   targets  img_size\n",
            "     0/299     10.3G    0.1012   0.03291         0    0.1341        10       608:  45% 68/150 [03:26<03:57,  2.89s/it]\n",
            "     0/299     10.3G    0.1012   0.03291         0    0.1341        10       608:  45% 68/150 [03:27<04:09,  3.05s/it]\n"
          ],
          "name": "stdout"
        }
      ]
    },
    {
      "cell_type": "code",
      "metadata": {
        "id": "Gzde8fOVVxRV",
        "colab_type": "code",
        "colab": {
          "base_uri": "https://localhost:8080/",
          "height": 73
        },
        "outputId": "19b341a4-766e-41d1-a6aa-42395e96fabf"
      },
      "source": [
        "ls"
      ],
      "execution_count": null,
      "outputs": [
        {
          "output_type": "stream",
          "text": [
            "\u001b[0m\u001b[01;34mconvertor\u001b[0m/  Dockerfile  \u001b[01;34minference\u001b[0m/  \u001b[01;32mREADME.md\u001b[0m*         test.py         \u001b[01;34mutils\u001b[0m/\n",
            "\u001b[01;34mdata\u001b[0m/       \u001b[01;34mdrive\u001b[0m/      LICENSE     \u001b[01;32mrequirements.txt\u001b[0m*  train.py        \u001b[01;34mweights\u001b[0m/\n",
            "detect.py   hubconf.py  \u001b[01;34mmodels\u001b[0m/     \u001b[01;34msample_data\u001b[0m/       tutorial.ipynb  \u001b[01;34myolov5\u001b[0m/\n"
          ],
          "name": "stdout"
        }
      ]
    }
  ]
}